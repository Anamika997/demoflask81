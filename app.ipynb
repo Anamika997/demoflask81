{
 "cells": [
  {
   "cell_type": "code",
   "execution_count": null,
   "id": "a85dfe88",
   "metadata": {},
   "outputs": [
    {
     "name": "stdout",
     "output_type": "stream",
     "text": [
      " * Serving Flask app \"__main__\" (lazy loading)\n",
      " * Environment: production\n",
      "\u001b[31m   WARNING: This is a development server. Do not use it in a production deployment.\u001b[0m\n",
      "\u001b[2m   Use a production WSGI server instead.\u001b[0m\n",
      " * Debug mode: off\n"
     ]
    },
    {
     "name": "stderr",
     "output_type": "stream",
     "text": [
      " * Running on http://127.0.0.1:5000/ (Press CTRL+C to quit)\n",
      "127.0.0.1 - - [22/Apr/2022 18:13:55] \"GET / HTTP/1.1\" 200 -\n"
     ]
    },
    {
     "name": "stdout",
     "output_type": "stream",
     "text": [
      "{'ID': {0: 1, 1: 2, 2: 3, 3: 4, 4: 5, 5: 6, 6: 7, 7: 8, 8: 9, 9: 10}, 'Name': {0: 'Kabul', 1: 'Qandahar', 2: 'Herat', 3: 'Mazar-e-Sharif', 4: 'Amsterdam', 5: 'Rotterdam', 6: 'Haag', 7: 'Utrecht', 8: 'Eindhoven', 9: 'Tilburg'}, 'CountryCode': {0: 'AFG', 1: 'AFG', 2: 'AFG', 3: 'AFG', 4: 'NLD', 5: 'NLD', 6: 'NLD', 7: 'NLD', 8: 'NLD', 9: 'NLD'}, 'District': {0: 'Kabol', 1: 'Qandahar', 2: 'Herat', 3: 'Balkh', 4: 'Noord-Holland', 5: 'Zuid-Holland', 6: 'Zuid-Holland', 7: 'Utrecht', 8: 'Noord-Brabant', 9: 'Noord-Brabant'}, 'Population': {0: 1780000, 1: 237500, 2: 186800, 3: 127800, 4: 731200, 5: 593321, 6: 440900, 7: 234323, 8: 201843, 9: 193238}}\n"
     ]
    }
   ],
   "source": [
    "from flask import Flask, render_template\n",
    "import mysql.connector\n",
    "from flask import Flask, request, jsonify\n",
    "import json\n",
    "import pandas as pd\n",
    "\n",
    "app = Flask(__name__)\n",
    "mydatabase = mysql.connector.connect(host = 'localhost', user = 'root', password = 'root123', database = 'world')\n",
    "\n",
    "mycursor = mydatabase.cursor()\n",
    "\n",
    "#There you can add home page and others. It is completely depends on you\n",
    "@app.route('/')\n",
    "#@app.route('/index.html')\n",
    "def example():\n",
    "       \n",
    "    sql_select_Query = \"select * from city limit 10\"\n",
    "    #cursor = connection.cursor()\n",
    "    #cursor.execute(sql_select_Query)\n",
    "   \n",
    "            \n",
    "    df = pd.read_sql_query(sql_select_Query, mydatabase)\n",
    "    #print(df)\n",
    "    df_dict = df.to_dict()\n",
    "    print(df_dict)\n",
    "   # json_object = json.dumps(df_dict, indent = 4) \n",
    "    return jsonify(df_dict)\n",
    "  #  return render_template('index.html') #, output_data = data\n",
    "\n",
    "if __name__ == '__main__':\n",
    "    app.run()"
   ]
  },
  {
   "cell_type": "code",
   "execution_count": null,
   "id": "98b03a6f",
   "metadata": {},
   "outputs": [],
   "source": []
  }
 ],
 "metadata": {
  "kernelspec": {
   "display_name": "Python 3 (ipykernel)",
   "language": "python",
   "name": "python3"
  },
  "language_info": {
   "codemirror_mode": {
    "name": "ipython",
    "version": 3
   },
   "file_extension": ".py",
   "mimetype": "text/x-python",
   "name": "python",
   "nbconvert_exporter": "python",
   "pygments_lexer": "ipython3",
   "version": "3.7.6"
  }
 },
 "nbformat": 4,
 "nbformat_minor": 5
}
